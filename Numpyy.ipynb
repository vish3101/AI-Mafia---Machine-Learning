{
 "cells": [
  {
   "cell_type": "markdown",
   "id": "fad2797e",
   "metadata": {},
   "source": [
    "# NUMPY-NUMERICAL PYTHON"
   ]
  },
  {
   "cell_type": "markdown",
   "id": "40a4092d",
   "metadata": {},
   "source": [
    "## its n-dimensional array"
   ]
  },
  {
   "cell_type": "code",
   "execution_count": 1,
   "id": "8e75dbad",
   "metadata": {},
   "outputs": [],
   "source": [
    "#importing numpy\n",
    "import numpy as np"
   ]
  },
  {
   "cell_type": "code",
   "execution_count": 4,
   "id": "cd34ce6d",
   "metadata": {},
   "outputs": [],
   "source": [
    "arr=np.array(([1,2,3],[4,5,6]))"
   ]
  },
  {
   "cell_type": "code",
   "execution_count": 5,
   "id": "ca3668eb",
   "metadata": {},
   "outputs": [
    {
     "data": {
      "text/plain": [
       "array([[1, 2, 3],\n",
       "       [4, 5, 6]])"
      ]
     },
     "execution_count": 5,
     "metadata": {},
     "output_type": "execute_result"
    }
   ],
   "source": [
    "arr"
   ]
  },
  {
   "cell_type": "code",
   "execution_count": 6,
   "id": "7dcfdc3b",
   "metadata": {},
   "outputs": [
    {
     "data": {
      "text/plain": [
       "numpy.ndarray"
      ]
     },
     "execution_count": 6,
     "metadata": {},
     "output_type": "execute_result"
    }
   ],
   "source": [
    "type(arr)"
   ]
  },
  {
   "cell_type": "code",
   "execution_count": 7,
   "id": "b2dcbfa6",
   "metadata": {},
   "outputs": [
    {
     "data": {
      "text/plain": [
       "(2, 3)"
      ]
     },
     "execution_count": 7,
     "metadata": {},
     "output_type": "execute_result"
    }
   ],
   "source": [
    "arr.shape"
   ]
  },
  {
   "cell_type": "code",
   "execution_count": 8,
   "id": "b9ef9e94",
   "metadata": {},
   "outputs": [
    {
     "data": {
      "text/plain": [
       "2"
      ]
     },
     "execution_count": 8,
     "metadata": {},
     "output_type": "execute_result"
    }
   ],
   "source": [
    "arr.ndim"
   ]
  },
  {
   "cell_type": "code",
   "execution_count": 9,
   "id": "ae74eee4",
   "metadata": {},
   "outputs": [
    {
     "data": {
      "text/plain": [
       "6"
      ]
     },
     "execution_count": 9,
     "metadata": {},
     "output_type": "execute_result"
    }
   ],
   "source": [
    "arr.size"
   ]
  },
  {
   "cell_type": "code",
   "execution_count": 15,
   "id": "1b27078f",
   "metadata": {},
   "outputs": [],
   "source": [
    "arr1=np.array(([1,2,3]))\n",
    "# 1-dimensional gives shape as (3,) which shows it is 1-D array"
   ]
  },
  {
   "cell_type": "code",
   "execution_count": 13,
   "id": "bc265849",
   "metadata": {},
   "outputs": [
    {
     "data": {
      "text/plain": [
       "array([1, 2, 3])"
      ]
     },
     "execution_count": 13,
     "metadata": {},
     "output_type": "execute_result"
    }
   ],
   "source": [
    "arr1"
   ]
  },
  {
   "cell_type": "code",
   "execution_count": 14,
   "id": "5ca29bb7",
   "metadata": {},
   "outputs": [
    {
     "data": {
      "text/plain": [
       "(3,)"
      ]
     },
     "execution_count": 14,
     "metadata": {},
     "output_type": "execute_result"
    }
   ],
   "source": [
    "arr1.shape"
   ]
  },
  {
   "cell_type": "code",
   "execution_count": 18,
   "id": "b453e9dc",
   "metadata": {},
   "outputs": [],
   "source": [
    "arr1=np.array(([1,2,3],[4,5,6]),dtype='float')\n",
    "# creating numpy array as data type of float"
   ]
  },
  {
   "cell_type": "code",
   "execution_count": 17,
   "id": "798281a8",
   "metadata": {},
   "outputs": [
    {
     "data": {
      "text/plain": [
       "array([[1., 2., 3.],\n",
       "       [4., 5., 6.]])"
      ]
     },
     "execution_count": 17,
     "metadata": {},
     "output_type": "execute_result"
    }
   ],
   "source": [
    "arr1"
   ]
  },
  {
   "cell_type": "code",
   "execution_count": 21,
   "id": "ac2f956b",
   "metadata": {},
   "outputs": [],
   "source": [
    "z=np.zeros((3,4))\n",
    "# creating a matrix of zeros by just givigng dimensions"
   ]
  },
  {
   "cell_type": "code",
   "execution_count": 22,
   "id": "fce76654",
   "metadata": {},
   "outputs": [
    {
     "data": {
      "text/plain": [
       "array([[0., 0., 0., 0.],\n",
       "       [0., 0., 0., 0.],\n",
       "       [0., 0., 0., 0.]])"
      ]
     },
     "execution_count": 22,
     "metadata": {},
     "output_type": "execute_result"
    }
   ],
   "source": [
    "z"
   ]
  },
  {
   "cell_type": "code",
   "execution_count": 23,
   "id": "39f99ef5",
   "metadata": {},
   "outputs": [
    {
     "data": {
      "text/plain": [
       "array([[1., 1., 1., 1., 1.],\n",
       "       [1., 1., 1., 1., 1.],\n",
       "       [1., 1., 1., 1., 1.]])"
      ]
     },
     "execution_count": 23,
     "metadata": {},
     "output_type": "execute_result"
    }
   ],
   "source": [
    "o=np.ones((3,5))\n",
    "# creating a matrix of ones by just givigng dimensions\n",
    "o"
   ]
  },
  {
   "cell_type": "code",
   "execution_count": 25,
   "id": "0e2943e7",
   "metadata": {},
   "outputs": [
    {
     "data": {
      "text/plain": [
       "array([[1., 0., 0.],\n",
       "       [0., 1., 0.],\n",
       "       [0., 0., 1.]])"
      ]
     },
     "execution_count": 25,
     "metadata": {},
     "output_type": "execute_result"
    }
   ],
   "source": [
    "np.eye(3)\n",
    "#creating identity matrix"
   ]
  },
  {
   "cell_type": "code",
   "execution_count": 27,
   "id": "ffe136ad",
   "metadata": {},
   "outputs": [],
   "source": [
    "# for knwoign the documentation of any function\n",
    "np.arange?\n",
    "#then shift+enter"
   ]
  },
  {
   "cell_type": "code",
   "execution_count": 30,
   "id": "1a7de414",
   "metadata": {},
   "outputs": [
    {
     "data": {
      "text/plain": [
       "array([ 0,  5, 10, 15, 20, 25])"
      ]
     },
     "execution_count": 30,
     "metadata": {},
     "output_type": "execute_result"
    }
   ],
   "source": [
    "#creating a sequence of 0 to 30 with step of 5.\n",
    "a=np.arange(0,30,5)\n",
    "a"
   ]
  },
  {
   "cell_type": "code",
   "execution_count": 31,
   "id": "bde84e72",
   "metadata": {},
   "outputs": [
    {
     "data": {
      "text/plain": [
       "array([0.        , 0.55555556, 1.11111111, 1.66666667, 2.22222222,\n",
       "       2.77777778, 3.33333333, 3.88888889, 4.44444444, 5.        ])"
      ]
     },
     "execution_count": 31,
     "metadata": {},
     "output_type": "execute_result"
    }
   ],
   "source": [
    "#creating a sequence of 10 values in range  0 to 5\n",
    "a=np.linspace(0,5,10)\n",
    "a"
   ]
  },
  {
   "cell_type": "code",
   "execution_count": 33,
   "id": "fd62ed67",
   "metadata": {},
   "outputs": [
    {
     "data": {
      "text/plain": [
       "array([[0.56750131, 0.55788115, 0.6616577 , 0.30763135],\n",
       "       [0.4872433 , 0.89840316, 0.74348035, 0.27392037],\n",
       "       [0.63099001, 0.92266396, 0.50113743, 0.26783132]])"
      ]
     },
     "execution_count": 33,
     "metadata": {},
     "output_type": "execute_result"
    }
   ],
   "source": [
    "# creating an array with randome values\n",
    "a=np.random.random((3,4))\n",
    "a"
   ]
  },
  {
   "cell_type": "code",
   "execution_count": 34,
   "id": "9aeb15e1",
   "metadata": {},
   "outputs": [
    {
     "data": {
      "text/plain": [
       "array([[[1, 2, 3],\n",
       "        [4, 2, 3]],\n",
       "\n",
       "       [[4, 5, 5],\n",
       "        [6, 7, 8]]])"
      ]
     },
     "execution_count": 34,
     "metadata": {},
     "output_type": "execute_result"
    }
   ],
   "source": [
    "arr=np.array(([1,2,3,4],[2,3,4,5],[5,6,7,8]))\n",
    "# for reshaping the dimensions\n",
    "arr.reshape(2,2,3)"
   ]
  },
  {
   "cell_type": "code",
   "execution_count": 36,
   "id": "29067eff",
   "metadata": {},
   "outputs": [
    {
     "data": {
      "text/plain": [
       "array([1, 2, 3, 4, 2, 3, 4, 5, 5, 6, 7, 8])"
      ]
     },
     "execution_count": 36,
     "metadata": {},
     "output_type": "execute_result"
    }
   ],
   "source": [
    "arr.flatten()\n",
    "# jut converting multidimension to single array"
   ]
  },
  {
   "cell_type": "code",
   "execution_count": 38,
   "id": "661755af",
   "metadata": {},
   "outputs": [
    {
     "data": {
      "text/plain": [
       "array([[2, 3, 4],\n",
       "       [5, 6, 7]])"
      ]
     },
     "execution_count": 38,
     "metadata": {},
     "output_type": "execute_result"
    }
   ],
   "source": [
    "arr[1:,:3]\n",
    "# in array slicing arr[x,y] where x denotes rows . in that also 1:_ shows from 1st row to end whie in y denotes columns. in which _:3 shows from first colum till 2nd column."
   ]
  },
  {
   "cell_type": "code",
   "execution_count": 40,
   "id": "b91285dc",
   "metadata": {},
   "outputs": [
    {
     "data": {
      "text/plain": [
       "array([[2, 4]])"
      ]
     },
     "execution_count": 40,
     "metadata": {},
     "output_type": "execute_result"
    }
   ],
   "source": [
    "arr[1::2,:3:2]\n",
    "# here 2 is step size to skip some of rows or columns"
   ]
  },
  {
   "cell_type": "code",
   "execution_count": 41,
   "id": "1db2d82b",
   "metadata": {},
   "outputs": [
    {
     "data": {
      "text/plain": [
       "'so overall we have for rows[start,end,step] and for columns also col[start,end,step]'"
      ]
     },
     "execution_count": 41,
     "metadata": {},
     "output_type": "execute_result"
    }
   ],
   "source": [
    "'''so overall we have for rows[start,end,step] and for columns also col[start,end,step]'''"
   ]
  },
  {
   "cell_type": "code",
   "execution_count": 42,
   "id": "368d5aef",
   "metadata": {},
   "outputs": [],
   "source": [
    "# for basic operation in numpy\n",
    "# +,-,*,%,**,//"
   ]
  },
  {
   "cell_type": "code",
   "execution_count": 43,
   "id": "3fd54b91",
   "metadata": {},
   "outputs": [
    {
     "data": {
      "text/plain": [
       "array([[2, 3, 4, 5],\n",
       "       [3, 4, 5, 6],\n",
       "       [6, 7, 8, 9]])"
      ]
     },
     "execution_count": 43,
     "metadata": {},
     "output_type": "execute_result"
    }
   ],
   "source": [
    "arr+1"
   ]
  },
  {
   "cell_type": "code",
   "execution_count": 44,
   "id": "291782fe",
   "metadata": {},
   "outputs": [
    {
     "data": {
      "text/plain": [
       "array([[-2, -1,  0,  1],\n",
       "       [-1,  0,  1,  2],\n",
       "       [ 2,  3,  4,  5]])"
      ]
     },
     "execution_count": 44,
     "metadata": {},
     "output_type": "execute_result"
    }
   ],
   "source": [
    "arr-3"
   ]
  },
  {
   "cell_type": "code",
   "execution_count": 46,
   "id": "d0b7d88a",
   "metadata": {},
   "outputs": [
    {
     "data": {
      "text/plain": [
       "array([[1, 2, 5],\n",
       "       [2, 3, 6],\n",
       "       [3, 4, 7],\n",
       "       [4, 5, 8]])"
      ]
     },
     "execution_count": 46,
     "metadata": {},
     "output_type": "execute_result"
    }
   ],
   "source": [
    "arr.T\n",
    "# transpose"
   ]
  },
  {
   "cell_type": "code",
   "execution_count": 47,
   "id": "ff59baa9",
   "metadata": {},
   "outputs": [
    {
     "data": {
      "text/plain": [
       "8"
      ]
     },
     "execution_count": 47,
     "metadata": {},
     "output_type": "execute_result"
    }
   ],
   "source": [
    "arr.max()"
   ]
  },
  {
   "cell_type": "code",
   "execution_count": 48,
   "id": "c14675de",
   "metadata": {},
   "outputs": [
    {
     "data": {
      "text/plain": [
       "array([4, 5, 8])"
      ]
     },
     "execution_count": 48,
     "metadata": {},
     "output_type": "execute_result"
    }
   ],
   "source": [
    "arr.max(axis=1)"
   ]
  },
  {
   "cell_type": "code",
   "execution_count": 49,
   "id": "2955a8a5",
   "metadata": {},
   "outputs": [
    {
     "data": {
      "text/plain": [
       "50"
      ]
     },
     "execution_count": 49,
     "metadata": {},
     "output_type": "execute_result"
    }
   ],
   "source": [
    "arr.sum()"
   ]
  },
  {
   "cell_type": "code",
   "execution_count": 50,
   "id": "04ff17bc",
   "metadata": {},
   "outputs": [],
   "source": [
    "arr1=np.array(([[1, 2, 5],\n",
    "       [2, 3, 6],\n",
    "       [3, 4, 7],\n",
    "       [4, 5, 8]]))"
   ]
  },
  {
   "cell_type": "code",
   "execution_count": 54,
   "id": "cbb24455",
   "metadata": {},
   "outputs": [],
   "source": [
    "arr=arr.reshape((4,3))"
   ]
  },
  {
   "cell_type": "code",
   "execution_count": 55,
   "id": "54c50066",
   "metadata": {},
   "outputs": [
    {
     "data": {
      "text/plain": [
       "array([[ 2,  4,  8],\n",
       "       [ 6,  5,  9],\n",
       "       [ 7,  9, 12],\n",
       "       [10, 12, 16]])"
      ]
     },
     "execution_count": 55,
     "metadata": {},
     "output_type": "execute_result"
    }
   ],
   "source": [
    "arr+arr1"
   ]
  },
  {
   "cell_type": "code",
   "execution_count": 56,
   "id": "3b3ee9fc",
   "metadata": {},
   "outputs": [
    {
     "data": {
      "text/plain": [
       "array([[ 1,  4, 15],\n",
       "       [ 8,  6, 18],\n",
       "       [12, 20, 35],\n",
       "       [24, 35, 64]])"
      ]
     },
     "execution_count": 56,
     "metadata": {},
     "output_type": "execute_result"
    }
   ],
   "source": [
    "arr*arr1"
   ]
  },
  {
   "cell_type": "code",
   "execution_count": 61,
   "id": "2175eac1",
   "metadata": {},
   "outputs": [
    {
     "data": {
      "text/plain": [
       "array([[1, 2, 3],\n",
       "       [4, 2, 3],\n",
       "       [4, 5, 5],\n",
       "       [6, 7, 8]])"
      ]
     },
     "execution_count": 61,
     "metadata": {},
     "output_type": "execute_result"
    }
   ],
   "source": [
    "np.sort(arr,axis=0)\n",
    "# also can provide kind=type of sort you want"
   ]
  },
  {
   "cell_type": "code",
   "execution_count": 62,
   "id": "66ab9004",
   "metadata": {},
   "outputs": [],
   "source": [
    "# stacking and spliting includes stackign tow aray together vstack means vertically and h stack means horizonatally"
   ]
  },
  {
   "cell_type": "code",
   "execution_count": 64,
   "id": "2387135f",
   "metadata": {},
   "outputs": [
    {
     "data": {
      "text/plain": [
       "array([[1, 2],\n",
       "       [3, 4],\n",
       "       [5, 6],\n",
       "       [7, 8]])"
      ]
     },
     "execution_count": 64,
     "metadata": {},
     "output_type": "execute_result"
    }
   ],
   "source": [
    "a1=np.array(([1,2],[3,4]))\n",
    "a2=np.array(([5,6],[7,8]))\n",
    "np.vstack((a1,a2))"
   ]
  },
  {
   "cell_type": "code",
   "execution_count": 67,
   "id": "e895f504",
   "metadata": {},
   "outputs": [],
   "source": [
    "c=np.hstack((a1,a2))"
   ]
  },
  {
   "cell_type": "code",
   "execution_count": 68,
   "id": "5d74e278",
   "metadata": {},
   "outputs": [
    {
     "data": {
      "text/plain": [
       "[array([[1, 2],\n",
       "        [3, 4]]),\n",
       " array([[5, 6],\n",
       "        [7, 8]])]"
      ]
     },
     "execution_count": 68,
     "metadata": {},
     "output_type": "execute_result"
    }
   ],
   "source": [
    "np.hsplit(c,2)"
   ]
  },
  {
   "cell_type": "code",
   "execution_count": null,
   "id": "5b009c7b",
   "metadata": {},
   "outputs": [],
   "source": []
  }
 ],
 "metadata": {
  "kernelspec": {
   "display_name": "Python 3 (ipykernel)",
   "language": "python",
   "name": "python3"
  },
  "language_info": {
   "codemirror_mode": {
    "name": "ipython",
    "version": 3
   },
   "file_extension": ".py",
   "mimetype": "text/x-python",
   "name": "python",
   "nbconvert_exporter": "python",
   "pygments_lexer": "ipython3",
   "version": "3.11.3"
  }
 },
 "nbformat": 4,
 "nbformat_minor": 5
}
